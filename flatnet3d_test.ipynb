{
 "cells": [
  {
   "cell_type": "code",
   "execution_count": null,
   "id": "578fbe71",
   "metadata": {},
   "outputs": [],
   "source": [
    "import os\n",
    "import re\n",
    "import sys\n",
    "import torch\n",
    "import scipy.io\n",
    "import mat73\n",
    "import torchvision\n",
    "import numpy as np\n",
    "import matplotlib.pyplot as plt\n",
    "import torchvision.transforms as T\n",
    "import torch.nn as nn\n",
    "import torch.fft as fft\n",
    "import torch.nn.functional as F\n",
    "import cv2 as cv\n",
    "from unet import UNet\n",
    "from mpl_toolkits.axes_grid1 import make_axes_locatable\n",
    "%matplotlib inline"
   ]
  },
  {
   "cell_type": "code",
   "execution_count": null,
   "id": "9de939d7",
   "metadata": {},
   "outputs": [],
   "source": [
    "print(\"tested on Torch version:\",torch.__version__)"
   ]
  },
  {
   "cell_type": "markdown",
   "id": "fad5f90b",
   "metadata": {},
   "source": [
    "### load PSFs"
   ]
  },
  {
   "cell_type": "code",
   "execution_count": null,
   "id": "04899513",
   "metadata": {},
   "outputs": [],
   "source": [
    "data_dict_psf = mat73.loadmat('data/psfs_save_magfs.mat')\n",
    "psfs = data_dict_psf['psfs'][:,:,:,-25:][::2,::2]\n"
   ]
  },
  {
   "cell_type": "markdown",
   "id": "cbb9639a",
   "metadata": {},
   "source": [
    "### real results"
   ]
  },
  {
   "cell_type": "code",
   "execution_count": null,
   "id": "2157dcf3",
   "metadata": {},
   "outputs": [],
   "source": [
    "from mpl_toolkits.axes_grid1 import make_axes_locatable\n",
    "device = 'cuda:0'\n",
    "drng = torch.from_numpy(data_dict_psf['drng'][-25:])\n",
    "model = UNet(in_channels=25*3,\n",
    "              out_channels=4,\n",
    "              in_layer='filter',\n",
    "              device = device,\n",
    "              batch_size = 7,\n",
    "              n_blocks=5,\n",
    "              start_filts = 64,\n",
    "              attention = True,\n",
    "              activation=nn.ELU(),\n",
    "              normalization='batch',\n",
    "              conv_mode='same',\n",
    "              out_layer='linear',\n",
    "              dim=2).to(device)\n",
    "\n",
    "real_data_path = 'data/avgCap30_1.mat'\n",
    "\n",
    "#if i==0:\n",
    "#data_dict = scipy.io.loadmat(real_data_path) #only for avgCap10_4.mat\n",
    "data_dict = mat73.loadmat(real_data_path)\n",
    "PATH = \"checkpoint/model_2dunet_50dB_reg_48.pt\"\n",
    "state_dict = torch.load(PATH,map_location='cpu')\n",
    "model.load_state_dict(state_dict)\n",
    "model.to(device)\n",
    "#else:\n",
    "#    data_dict = mat73.loadmat(data_dir+'raw_data/'+real_data[i-1])\n",
    "\n",
    "img = data_dict['avgCap']\n",
    "left = (img.shape[0]//2-128)//2\n",
    "top = (img.shape[1]//2-128)//2\n",
    "measurement = np.zeros([456, 684, 3])\n",
    "measurement[:, :, 0] = img[::2, ::2, 0]\n",
    "measurement[:, :, 1] = img[::2, ::2, 1]\n",
    "measurement[:, :, 2] = img[::2, ::2, -1]\n",
    "measurement /=np.max(measurement)\n",
    "x = torch.from_numpy((255*measurement)).unsqueeze(0).permute(0, 3, 1, 2).to(device).type(torch.float32)\n",
    "model.eval()\n",
    "\n",
    "with torch.no_grad():\n",
    "    out_d = 1/model(x)[0, 3:,...].cpu()[0]\n",
    "    out_aif = model(x)[0, :3,...].cpu().numpy()\n",
    "    out_aif -= np.min(out_aif)\n",
    "    out_aif /= np.max(out_aif)\n",
    "    out_d[np.where(out_aif[1,:,:] < 0.15 )] = np.nan\n",
    "    out_d[0,0]=20\n",
    "    out_d[0,1]=3.6\n",
    "    out_d = np.clip(out_d,3.6,20)\n",
    "\n",
    "fig, ax = plt.subplots(1, 3, gridspec_kw={'width_ratios': [1.5, 1,1.08]},figsize=(10,5))\n",
    "fig.tight_layout()\n",
    "\n",
    "ax[0].imshow(measurement)\n",
    "ax[0].set_title('measurement')\n",
    "ax[1].imshow(out_aif.transpose(1, 2, 0))\n",
    "ax[1].set_title('aif')\n",
    "divider = make_axes_locatable(ax[2])\n",
    "cax = divider.append_axes('right', size='5%', pad=0.05)\n",
    "c = ax[2].imshow(out_d,cmap='jet')\n",
    "ax[2].set_title('depth')\n",
    "fig.colorbar(c,cax)\n",
    "plt.show()"
   ]
  },
  {
   "cell_type": "code",
   "execution_count": null,
   "id": "7ee6af56",
   "metadata": {},
   "outputs": [],
   "source": []
  },
  {
   "cell_type": "code",
   "execution_count": null,
   "id": "8fbdc098",
   "metadata": {},
   "outputs": [],
   "source": []
  }
 ],
 "metadata": {
  "kernelspec": {
   "display_name": "Python 3 (ipykernel)",
   "language": "python",
   "name": "python3"
  },
  "language_info": {
   "codemirror_mode": {
    "name": "ipython",
    "version": 3
   },
   "file_extension": ".py",
   "mimetype": "text/x-python",
   "name": "python",
   "nbconvert_exporter": "python",
   "pygments_lexer": "ipython3",
   "version": "3.7.11"
  }
 },
 "nbformat": 4,
 "nbformat_minor": 5
}
